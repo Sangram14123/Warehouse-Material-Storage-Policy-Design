{
  "nbformat": 4,
  "nbformat_minor": 0,
  "metadata": {
    "colab": {
      "provenance": []
    },
    "kernelspec": {
      "name": "python3",
      "display_name": "Python 3"
    },
    "language_info": {
      "name": "python"
    }
  },
  "cells": [
    {
      "cell_type": "code",
      "source": [
        "pip install pulp"
      ],
      "metadata": {
        "colab": {
          "base_uri": "https://localhost:8080/"
        },
        "id": "uVgS6fOoX4-s",
        "outputId": "73fb40e1-de21-411c-ad47-4efb9fd4dc5d"
      },
      "execution_count": null,
      "outputs": [
        {
          "output_type": "stream",
          "name": "stdout",
          "text": [
            "Requirement already satisfied: pulp in /usr/local/lib/python3.10/dist-packages (2.9.0)\n"
          ]
        }
      ]
    },
    {
      "cell_type": "code",
      "execution_count": null,
      "metadata": {
        "id": "mur0rOM-y4iE"
      },
      "outputs": [],
      "source": [
        "import numpy as np"
      ]
    },
    {
      "cell_type": "code",
      "source": [
        "loc = np.array([[54.29, 54.14, 54.21, 54.7, 55.22],\n",
        "                [54.77, 54.57, 54.39, 54.24, 54.1]])"
      ],
      "metadata": {
        "id": "lDYj1NJkzw84"
      },
      "execution_count": null,
      "outputs": []
    },
    {
      "cell_type": "code",
      "source": [
        "t_f = np.array([[1.67, 1.67, 1.88, 2.50, 3.13],\n",
        "               [3.33, 3.33, 3.33, 3.33, 3.33]])"
      ],
      "metadata": {
        "id": "v08gS-18vA8G"
      },
      "execution_count": null,
      "outputs": []
    },
    {
      "cell_type": "code",
      "source": [
        "ratio = [\n",
        "    1, 19.4, 9.5, 3.5, 1.1, 11, 2, 3.8, 8.2, 6.3, 53, 4.1, 30, 26.5, 24.7, 36,\n",
        "    7, 6.5, 28, 127, 4.5, 6, 20, 15.5, 14.5, 3.7, 4.3, 5, 3.1, 5.6, 9.2, 89,\n",
        "    33, 23, 58, 1.6, 10, 9, 2.5, 5.2, 49, 62, 4, 69.5, 22, 294, 21, 13.9, 18.3,\n",
        "    38.7, 78, 10.5, 7.8, 105, 13, 17.1, 7, 42, 3, 6, 12, 46, 2.1\n",
        "]\n"
      ],
      "metadata": {
        "id": "XJOWfFrRgSe0"
      },
      "execution_count": null,
      "outputs": []
    },
    {
      "cell_type": "code",
      "source": [
        "p = [132, 97, 124, 52, 299, 22, 106, 161, 90, 75, 53, 65, 90, 106, 74, 36, 7, 39, 28, 127, 63, 6, 60, 31, 29, 55, 30, 5, 65, 39, 83, 89, 33, 23, 58, 181, 10, 9, 33, 67, 49, 62, 4, 139, 22, 294, 21, 139, 55, 116, 78, 42, 39, 105, 52, 137, 7, 42, 3, 72, 12, 46, 72]"
      ],
      "metadata": {
        "id": "HXAnZscLrC4m"
      },
      "execution_count": null,
      "outputs": []
    },
    {
      "cell_type": "code",
      "source": [
        "import pulp\n",
        "\n",
        "problem = pulp.LpProblem(\"Binary_IP_Problem\", pulp.LpMinimize)\n",
        "\n",
        "product = [i for i in range(63)]\n",
        "rows = [0,1,2,3,4]\n",
        "columns = [0,1]\n",
        "d_val= [\n",
        "    132, 5, 13, 15, 267, 2, 54, 42, 11, 12, 1, 16, 3, 4, 3, 1, 1, 6, 1, 1,\n",
        "    14, 1, 3, 2, 2, 15, 7, 1, 21, 7, 9, 1, 1, 1, 1, 112, 1, 1, 13, 13, 1,\n",
        "    1, 1, 2, 1, 1, 1, 10, 3, 3, 1, 4, 5, 1, 4, 8, 1, 1, 1, 12, 1, 1, 34\n",
        "]\n",
        "\n",
        "\n",
        "x = pulp.LpVariable.dicts(\"x\", ((k, i, j) for k in product for i in rows for j in columns), cat='Binary')\n",
        "\n",
        "problem += pulp.lpSum(\n",
        "    sum(\n",
        "        sum(\n",
        "            (loc[j][i] * x[(k, i, j)] * d_val[k]) / ratio[k]\n",
        "            for j in columns\n",
        "        )\n",
        "        for i in rows\n",
        "    )\n",
        "    for k in product\n",
        ") +pulp.lpSum(\n",
        "    sum(\n",
        "        sum(\n",
        "            (4*t_f[j][i] * x[(k, i, j)] * p[k])\n",
        "            for j in columns\n",
        "        )\n",
        "        for i in rows\n",
        "    )\n",
        "    for k in product\n",
        ") + pulp.lpSum(\n",
        "    4 * 12.02 * (1 - x[(k, i, j)]) * p[k]\n",
        "    for k in product for i in rows for j in columns\n",
        ")\n",
        "\n",
        "\n",
        "\n",
        "for k in product:\n",
        "    problem += pulp.lpSum(x[(k, i, j)] for i in rows for j in columns) <= 1, f\"Constraint_for_k_{k}\"\n",
        "\n",
        "for i in rows:\n",
        "  for j in columns:\n",
        "    problem += pulp.lpSum(x[(k, i, j)] for k in product) == 1, f\"constraint_for_storage_{i}_{j}\"\n",
        "\n",
        "\n",
        "# Solve the problem\n",
        "problem.solve()\n",
        "\n",
        "# Output results\n",
        "print(f\"Status: {pulp.LpStatus[problem.status]}\")\n",
        "print(f\"Total Value of selected items: {pulp.value(problem.objective)}\")\n",
        "selected_items = [k+1 for k, i, j in x if pulp.value(x[(k, i, j)]) == 1]\n",
        "print(f\"Selected items: {selected_items}\")"
      ],
      "metadata": {
        "colab": {
          "base_uri": "https://localhost:8080/"
        },
        "id": "bq8m8FdnbAGQ",
        "outputId": "a2ca2c7c-3582-44e3-8afa-8adb85f921e0"
      },
      "execution_count": null,
      "outputs": [
        {
          "output_type": "stream",
          "name": "stdout",
          "text": [
            "Status: Optimal\n",
            "Total Value of selected items: 2042309.4081543537\n",
            "Selected items: [3, 8, 14, 20, 44, 46, 48, 50, 54, 56]\n"
          ]
        }
      ]
    },
    {
      "cell_type": "code",
      "source": [
        "solution_list = []\n",
        "for k, i, j in x:\n",
        "  if pulp.value(x[(k, i, j)]) == 1:\n",
        "    solution_list.append(x[(k, i, j)])\n",
        "    print(x[(k, i, j)])"
      ],
      "metadata": {
        "colab": {
          "base_uri": "https://localhost:8080/"
        },
        "id": "TgNd5ktJxsy_",
        "outputId": "72b91379-dbb6-4cee-fe75-a0974ee8a09c"
      },
      "execution_count": null,
      "outputs": [
        {
          "output_type": "stream",
          "name": "stdout",
          "text": [
            "x_(2,_4,_1)\n",
            "x_(7,_1,_0)\n",
            "x_(13,_3,_1)\n",
            "x_(19,_0,_1)\n",
            "x_(43,_3,_0)\n",
            "x_(45,_0,_0)\n",
            "x_(47,_2,_0)\n",
            "x_(49,_2,_1)\n",
            "x_(53,_1,_1)\n",
            "x_(55,_4,_0)\n"
          ]
        }
      ]
    },
    {
      "cell_type": "code",
      "source": [
        "matrix = np.zeros((2,5))\n",
        "for k, i, j in x:\n",
        "    if pulp.value(x[(k, i, j)]) == 1:\n",
        "        matrix[j][i] = k + 1\n",
        "\n",
        "print(matrix)"
      ],
      "metadata": {
        "colab": {
          "base_uri": "https://localhost:8080/"
        },
        "id": "pd2DE27izX-6",
        "outputId": "f8500829-799d-4ee9-ea3c-618f0e75d752"
      },
      "execution_count": null,
      "outputs": [
        {
          "output_type": "stream",
          "name": "stdout",
          "text": [
            "[[46.  8. 48. 44. 56.]\n",
            " [20. 54. 50. 14.  3.]]\n"
          ]
        }
      ]
    }
  ]
}